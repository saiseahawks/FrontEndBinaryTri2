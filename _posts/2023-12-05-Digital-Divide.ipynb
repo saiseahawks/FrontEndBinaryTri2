{
 "cells": [
  {
   "cell_type": "markdown",
   "metadata": {},
   "source": [
    "---\n",
    "toc: true\n",
    "comments: true\n",
    "layout: post\n",
    "title: 5.2 Digital Divide Student Lesson\n",
    "description: Collegeboard Big Idea 5.2 Digital Divide Student Lesson\n",
    "type: hacks\n",
    "courses: { compsci: {week: 15} }\n",
    "---"
   ]
  },
  {
   "cell_type": "markdown",
   "metadata": {},
   "source": [
    "## Standards Covered:\n",
    "- IOC-1.C.1 - Internet access varies between socioeconomic, geographic, and demographic characteristics, as well as between countries.\n",
    "- IOC-1.C.2 - The \"digital divide\" refers to differing access to computing devices and the Internet, based on socioeconomic, geographic, or demographic characteristics.\n",
    "- IOC-1.C.3 - The digital divide can affect both groups and individuals.\n",
    "- IOC-1.C.4 - The digital divide raises issues of equity, access, and influence, both globally and locally.\n",
    "- IOC-1.C.5 - The digital divide is affected by the actions of individuals, organizations, and governments.\n"
   ]
  },
  {
   "cell_type": "markdown",
   "metadata": {},
   "source": [
    "## What is the Digital Divide? \n",
    "You could probably infer what it might be, but here it is anyway. The Digital Divide is the divde of multiple peoples, and their access to internet. These difference could be based socioeconomically, geographically, or demogrpahically. \n"
   ]
  },
  {
   "cell_type": "markdown",
   "metadata": {},
   "source": [
    "## Why do these things happen?\n",
    "Since everyone comes from differnet, socioeconomic, geographic, and demogrpahic background, different people live differen lives.\n",
    "#### Socieoeconomically\n",
    "Socioeconomically "
   ]
  }
 ],
 "metadata": {
  "language_info": {
   "name": "python"
  },
  "orig_nbformat": 4
 },
 "nbformat": 4,
 "nbformat_minor": 2
}
